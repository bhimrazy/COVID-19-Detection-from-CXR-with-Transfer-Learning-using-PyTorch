{
  "nbformat": 4,
  "nbformat_minor": 0,
  "metadata": {
    "colab": {
      "name": "COVID-19 Detection.ipynb",
      "provenance": [],
      "collapsed_sections": [],
      "authorship_tag": "ABX9TyMZ0J7SHf+indGaKXAP3OGF",
      "include_colab_link": true
    },
    "kernelspec": {
      "name": "python3",
      "display_name": "Python 3"
    },
    "language_info": {
      "name": "python"
    },
    "accelerator": "GPU",
    "gpuClass": "standard",
    "widgets": {
      "application/vnd.jupyter.widget-state+json": {
        "ebe297df22d34dcaae0f21537b50df44": {
          "model_module": "@jupyter-widgets/controls",
          "model_name": "HBoxModel",
          "model_module_version": "1.5.0",
          "state": {
            "_dom_classes": [],
            "_model_module": "@jupyter-widgets/controls",
            "_model_module_version": "1.5.0",
            "_model_name": "HBoxModel",
            "_view_count": null,
            "_view_module": "@jupyter-widgets/controls",
            "_view_module_version": "1.5.0",
            "_view_name": "HBoxView",
            "box_style": "",
            "children": [
              "IPY_MODEL_c344d8fb172348eea21a49faec9ab8c3",
              "IPY_MODEL_ec3b7ac9801149db8b5bc136dbb97a37",
              "IPY_MODEL_1f40e39a825145cd9439a131fd58b807"
            ],
            "layout": "IPY_MODEL_d17aee74bcf54e05819c9b4e4667e9ed"
          }
        },
        "c344d8fb172348eea21a49faec9ab8c3": {
          "model_module": "@jupyter-widgets/controls",
          "model_name": "HTMLModel",
          "model_module_version": "1.5.0",
          "state": {
            "_dom_classes": [],
            "_model_module": "@jupyter-widgets/controls",
            "_model_module_version": "1.5.0",
            "_model_name": "HTMLModel",
            "_view_count": null,
            "_view_module": "@jupyter-widgets/controls",
            "_view_module_version": "1.5.0",
            "_view_name": "HTMLView",
            "description": "",
            "description_tooltip": null,
            "layout": "IPY_MODEL_e97be620dfea4c1582c8446c6bc470dd",
            "placeholder": "​",
            "style": "IPY_MODEL_bc33ab039d034187bde0c6124f1e2013",
            "value": "100%"
          }
        },
        "ec3b7ac9801149db8b5bc136dbb97a37": {
          "model_module": "@jupyter-widgets/controls",
          "model_name": "FloatProgressModel",
          "model_module_version": "1.5.0",
          "state": {
            "_dom_classes": [],
            "_model_module": "@jupyter-widgets/controls",
            "_model_module_version": "1.5.0",
            "_model_name": "FloatProgressModel",
            "_view_count": null,
            "_view_module": "@jupyter-widgets/controls",
            "_view_module_version": "1.5.0",
            "_view_name": "ProgressView",
            "bar_style": "success",
            "description": "",
            "description_tooltip": null,
            "layout": "IPY_MODEL_d833b79e8c50449b8e909d9a881770f7",
            "max": 32342954,
            "min": 0,
            "orientation": "horizontal",
            "style": "IPY_MODEL_6d89b0be60e64106b698b42f64ae7a5e",
            "value": 32342954
          }
        },
        "1f40e39a825145cd9439a131fd58b807": {
          "model_module": "@jupyter-widgets/controls",
          "model_name": "HTMLModel",
          "model_module_version": "1.5.0",
          "state": {
            "_dom_classes": [],
            "_model_module": "@jupyter-widgets/controls",
            "_model_module_version": "1.5.0",
            "_model_name": "HTMLModel",
            "_view_count": null,
            "_view_module": "@jupyter-widgets/controls",
            "_view_module_version": "1.5.0",
            "_view_name": "HTMLView",
            "description": "",
            "description_tooltip": null,
            "layout": "IPY_MODEL_0d26df229bcd4dc6975954d3af7ced67",
            "placeholder": "​",
            "style": "IPY_MODEL_29e63293c1a54fd6b8b300db97a34f9f",
            "value": " 30.8M/30.8M [00:02&lt;00:00, 17.4MB/s]"
          }
        },
        "d17aee74bcf54e05819c9b4e4667e9ed": {
          "model_module": "@jupyter-widgets/base",
          "model_name": "LayoutModel",
          "model_module_version": "1.2.0",
          "state": {
            "_model_module": "@jupyter-widgets/base",
            "_model_module_version": "1.2.0",
            "_model_name": "LayoutModel",
            "_view_count": null,
            "_view_module": "@jupyter-widgets/base",
            "_view_module_version": "1.2.0",
            "_view_name": "LayoutView",
            "align_content": null,
            "align_items": null,
            "align_self": null,
            "border": null,
            "bottom": null,
            "display": null,
            "flex": null,
            "flex_flow": null,
            "grid_area": null,
            "grid_auto_columns": null,
            "grid_auto_flow": null,
            "grid_auto_rows": null,
            "grid_column": null,
            "grid_gap": null,
            "grid_row": null,
            "grid_template_areas": null,
            "grid_template_columns": null,
            "grid_template_rows": null,
            "height": null,
            "justify_content": null,
            "justify_items": null,
            "left": null,
            "margin": null,
            "max_height": null,
            "max_width": null,
            "min_height": null,
            "min_width": null,
            "object_fit": null,
            "object_position": null,
            "order": null,
            "overflow": null,
            "overflow_x": null,
            "overflow_y": null,
            "padding": null,
            "right": null,
            "top": null,
            "visibility": null,
            "width": null
          }
        },
        "e97be620dfea4c1582c8446c6bc470dd": {
          "model_module": "@jupyter-widgets/base",
          "model_name": "LayoutModel",
          "model_module_version": "1.2.0",
          "state": {
            "_model_module": "@jupyter-widgets/base",
            "_model_module_version": "1.2.0",
            "_model_name": "LayoutModel",
            "_view_count": null,
            "_view_module": "@jupyter-widgets/base",
            "_view_module_version": "1.2.0",
            "_view_name": "LayoutView",
            "align_content": null,
            "align_items": null,
            "align_self": null,
            "border": null,
            "bottom": null,
            "display": null,
            "flex": null,
            "flex_flow": null,
            "grid_area": null,
            "grid_auto_columns": null,
            "grid_auto_flow": null,
            "grid_auto_rows": null,
            "grid_column": null,
            "grid_gap": null,
            "grid_row": null,
            "grid_template_areas": null,
            "grid_template_columns": null,
            "grid_template_rows": null,
            "height": null,
            "justify_content": null,
            "justify_items": null,
            "left": null,
            "margin": null,
            "max_height": null,
            "max_width": null,
            "min_height": null,
            "min_width": null,
            "object_fit": null,
            "object_position": null,
            "order": null,
            "overflow": null,
            "overflow_x": null,
            "overflow_y": null,
            "padding": null,
            "right": null,
            "top": null,
            "visibility": null,
            "width": null
          }
        },
        "bc33ab039d034187bde0c6124f1e2013": {
          "model_module": "@jupyter-widgets/controls",
          "model_name": "DescriptionStyleModel",
          "model_module_version": "1.5.0",
          "state": {
            "_model_module": "@jupyter-widgets/controls",
            "_model_module_version": "1.5.0",
            "_model_name": "DescriptionStyleModel",
            "_view_count": null,
            "_view_module": "@jupyter-widgets/base",
            "_view_module_version": "1.2.0",
            "_view_name": "StyleView",
            "description_width": ""
          }
        },
        "d833b79e8c50449b8e909d9a881770f7": {
          "model_module": "@jupyter-widgets/base",
          "model_name": "LayoutModel",
          "model_module_version": "1.2.0",
          "state": {
            "_model_module": "@jupyter-widgets/base",
            "_model_module_version": "1.2.0",
            "_model_name": "LayoutModel",
            "_view_count": null,
            "_view_module": "@jupyter-widgets/base",
            "_view_module_version": "1.2.0",
            "_view_name": "LayoutView",
            "align_content": null,
            "align_items": null,
            "align_self": null,
            "border": null,
            "bottom": null,
            "display": null,
            "flex": null,
            "flex_flow": null,
            "grid_area": null,
            "grid_auto_columns": null,
            "grid_auto_flow": null,
            "grid_auto_rows": null,
            "grid_column": null,
            "grid_gap": null,
            "grid_row": null,
            "grid_template_areas": null,
            "grid_template_columns": null,
            "grid_template_rows": null,
            "height": null,
            "justify_content": null,
            "justify_items": null,
            "left": null,
            "margin": null,
            "max_height": null,
            "max_width": null,
            "min_height": null,
            "min_width": null,
            "object_fit": null,
            "object_position": null,
            "order": null,
            "overflow": null,
            "overflow_x": null,
            "overflow_y": null,
            "padding": null,
            "right": null,
            "top": null,
            "visibility": null,
            "width": null
          }
        },
        "6d89b0be60e64106b698b42f64ae7a5e": {
          "model_module": "@jupyter-widgets/controls",
          "model_name": "ProgressStyleModel",
          "model_module_version": "1.5.0",
          "state": {
            "_model_module": "@jupyter-widgets/controls",
            "_model_module_version": "1.5.0",
            "_model_name": "ProgressStyleModel",
            "_view_count": null,
            "_view_module": "@jupyter-widgets/base",
            "_view_module_version": "1.2.0",
            "_view_name": "StyleView",
            "bar_color": null,
            "description_width": ""
          }
        },
        "0d26df229bcd4dc6975954d3af7ced67": {
          "model_module": "@jupyter-widgets/base",
          "model_name": "LayoutModel",
          "model_module_version": "1.2.0",
          "state": {
            "_model_module": "@jupyter-widgets/base",
            "_model_module_version": "1.2.0",
            "_model_name": "LayoutModel",
            "_view_count": null,
            "_view_module": "@jupyter-widgets/base",
            "_view_module_version": "1.2.0",
            "_view_name": "LayoutView",
            "align_content": null,
            "align_items": null,
            "align_self": null,
            "border": null,
            "bottom": null,
            "display": null,
            "flex": null,
            "flex_flow": null,
            "grid_area": null,
            "grid_auto_columns": null,
            "grid_auto_flow": null,
            "grid_auto_rows": null,
            "grid_column": null,
            "grid_gap": null,
            "grid_row": null,
            "grid_template_areas": null,
            "grid_template_columns": null,
            "grid_template_rows": null,
            "height": null,
            "justify_content": null,
            "justify_items": null,
            "left": null,
            "margin": null,
            "max_height": null,
            "max_width": null,
            "min_height": null,
            "min_width": null,
            "object_fit": null,
            "object_position": null,
            "order": null,
            "overflow": null,
            "overflow_x": null,
            "overflow_y": null,
            "padding": null,
            "right": null,
            "top": null,
            "visibility": null,
            "width": null
          }
        },
        "29e63293c1a54fd6b8b300db97a34f9f": {
          "model_module": "@jupyter-widgets/controls",
          "model_name": "DescriptionStyleModel",
          "model_module_version": "1.5.0",
          "state": {
            "_model_module": "@jupyter-widgets/controls",
            "_model_module_version": "1.5.0",
            "_model_name": "DescriptionStyleModel",
            "_view_count": null,
            "_view_module": "@jupyter-widgets/base",
            "_view_module_version": "1.2.0",
            "_view_name": "StyleView",
            "description_width": ""
          }
        }
      }
    }
  },
  "cells": [
    {
      "cell_type": "markdown",
      "metadata": {
        "id": "view-in-github",
        "colab_type": "text"
      },
      "source": [
        "<a href=\"https://colab.research.google.com/github/bhimrazy/COVID-19-Detection-from-CXR-with-Transfer-Learning-using-PyTorch/blob/main/COVID_19_Detection.ipynb\" target=\"_parent\"><img src=\"https://colab.research.google.com/assets/colab-badge.svg\" alt=\"Open In Colab\"/></a>"
      ]
    },
    {
      "cell_type": "code",
      "source": [
        "\"\"\"\n",
        "@author: Bhimraj Yadav\n",
        "Title: COVID-19 Detection with Transfer Learning using PyTorch\n",
        "\"\"\""
      ],
      "metadata": {
        "colab": {
          "base_uri": "https://localhost:8080/",
          "height": 35
        },
        "id": "nQJKh_AGjuPl",
        "outputId": "6295b4f6-85e6-4d57-f4dc-4c90826cb420"
      },
      "execution_count": 1,
      "outputs": [
        {
          "output_type": "execute_result",
          "data": {
            "text/plain": [
              "'\\n@author: Bhimraj Yadav\\nTitle: COVID-19 Detection with Transfer Learning using PyTorch\\n'"
            ],
            "application/vnd.google.colaboratory.intrinsic+json": {
              "type": "string"
            }
          },
          "metadata": {},
          "execution_count": 1
        }
      ]
    },
    {
      "cell_type": "code",
      "execution_count": 25,
      "metadata": {
        "id": "E88XWmR5glHG"
      },
      "outputs": [],
      "source": [
        "#downlaoding datasets\n",
        "!gdown \"https://drive.google.com/uc?id=1bum9Sehb3AzUMHLhBMuowPKyr_PCrB3a\"\n",
        "\n",
        "#unzipping files\n",
        "!unzip COVID-19_Radiography_Dataset.zip\n",
        "\n",
        "# removing zip file\n",
        "!rm -rf COVID-19_Radiography_Dataset.zip\n"
      ]
    },
    {
      "cell_type": "code",
      "source": [
        "# preparation\n",
        "\n",
        "import os \n",
        "import glob\n",
        "import shutil\n",
        "import random\n",
        "from tqdm import tqdm\n",
        "\n",
        "# removing datasets folder if already exists \n",
        "if (os.path.exists(\"datasets\")):\n",
        "  shutil.rmtree(\"datasets/\")\n",
        "\n",
        "root_folder=\"COVID-19_Radiography_Dataset\"\n",
        "classes = [\"COVID\",\"Lung_Opacity\",\"Viral Pneumonia\",\"Normal\"]\n",
        "\n",
        "# prepairing datasets folders\n",
        "for cat in [\"train\",\"val\",\"test\"]:\n",
        "  for c in classes:\n",
        "    os.makedirs(f\"datasets/{cat}/{c}\", exist_ok = True)\n",
        "    os.makedirs(f\"datasets/{cat}/{c}\", exist_ok = True)\n",
        "\n",
        "# copying files to new folders\n",
        "random.seed(230)\n",
        "\n",
        "data_distribution ={}\n",
        "\n",
        "for cls in classes:\n",
        "  filenames = glob.glob(f\"{root_folder}/{cls}/images/*\")\n",
        "  filenames.sort()  # make sure that the filenames have a fixed order before shuffling\n",
        "  random.shuffle(filenames) # shuffles the ordering of filenames (deterministic given the chosen seed)\n",
        "\n",
        "  split_1 = int(0.8 * len(filenames))\n",
        "  split_2 = int(0.9 * len(filenames))\n",
        "  files={\n",
        "      \"train\": filenames[:split_1],\n",
        "      \"val\": filenames[split_1:split_2],\n",
        "      \"test\" :filenames[split_2:]\n",
        "  }\n",
        "  data = {}\n",
        "  for k,file_names in tqdm(files.items(),cls):\n",
        "    data[k]=len(file_names)\n",
        "    for i,file_path in enumerate(file_names):\n",
        "      file_cat = file_path.split(\"/\")[-3]\n",
        "      file_name = f\"{file_cat}_{i+1}.png\"\n",
        "      dest = f\"datasets/{k}/{file_cat}/\"+file_name\n",
        "      shutil.copyfile(file_path,dest)\n",
        "  \n",
        "  data_distribution[cls]=data"
      ],
      "metadata": {
        "colab": {
          "base_uri": "https://localhost:8080/"
        },
        "id": "Nacf1CYbiWqd",
        "outputId": "7326510d-0205-4ab9-d5d4-d1256a8c3533"
      },
      "execution_count": 3,
      "outputs": [
        {
          "output_type": "stream",
          "name": "stderr",
          "text": [
            "COVID: 100%|██████████| 3/3 [00:00<00:00,  6.77it/s]\n",
            "Lung_Opacity: 100%|██████████| 3/3 [00:00<00:00,  3.83it/s]\n",
            "Viral Pneumonia: 100%|██████████| 3/3 [00:00<00:00, 15.16it/s]\n",
            "Normal: 100%|██████████| 3/3 [00:01<00:00,  2.23it/s]\n"
          ]
        }
      ]
    },
    {
      "cell_type": "code",
      "source": [
        "import pandas as pd\n",
        "pd.options.plotting.backend = \"plotly\""
      ],
      "metadata": {
        "id": "McnZXik8vtnz"
      },
      "execution_count": 4,
      "outputs": []
    },
    {
      "cell_type": "code",
      "source": [
        "df = pd.DataFrame(data_distribution)\n",
        "fig = df.plot.bar(title=\"Data Distribution\",\n",
        "              labels=dict(index=\"Data Category\", value=\"Numbers\", variable=\"Classes\"))\n",
        "fig.show()"
      ],
      "metadata": {
        "colab": {
          "base_uri": "https://localhost:8080/",
          "height": 542
        },
        "id": "V7y60GQ_t_Cn",
        "outputId": "8d556cd0-ab45-4cfb-c7e6-b5218e24af3e"
      },
      "execution_count": 5,
      "outputs": [
        {
          "output_type": "display_data",
          "data": {
            "text/html": [
              "<html>\n",
              "<head><meta charset=\"utf-8\" /></head>\n",
              "<body>\n",
              "    <div>            <script src=\"https://cdnjs.cloudflare.com/ajax/libs/mathjax/2.7.5/MathJax.js?config=TeX-AMS-MML_SVG\"></script><script type=\"text/javascript\">if (window.MathJax) {MathJax.Hub.Config({SVG: {font: \"STIX-Web\"}});}</script>                <script type=\"text/javascript\">window.PlotlyConfig = {MathJaxConfig: 'local'};</script>\n",
              "        <script src=\"https://cdn.plot.ly/plotly-2.8.3.min.js\"></script>                <div id=\"61c476c0-cbdf-4810-85fa-bd7a63fff294\" class=\"plotly-graph-div\" style=\"height:525px; width:100%;\"></div>            <script type=\"text/javascript\">                                    window.PLOTLYENV=window.PLOTLYENV || {};                                    if (document.getElementById(\"61c476c0-cbdf-4810-85fa-bd7a63fff294\")) {                    Plotly.newPlot(                        \"61c476c0-cbdf-4810-85fa-bd7a63fff294\",                        [{\"alignmentgroup\":\"True\",\"hovertemplate\":\"Classes=COVID<br>Data Category=%{x}<br>Numbers=%{y}<extra></extra>\",\"legendgroup\":\"COVID\",\"marker\":{\"color\":\"#636efa\",\"pattern\":{\"shape\":\"\"}},\"name\":\"COVID\",\"offsetgroup\":\"COVID\",\"orientation\":\"v\",\"showlegend\":true,\"textposition\":\"auto\",\"x\":[\"train\",\"val\",\"test\"],\"xaxis\":\"x\",\"y\":[2892,362,362],\"yaxis\":\"y\",\"type\":\"bar\"},{\"alignmentgroup\":\"True\",\"hovertemplate\":\"Classes=Lung_Opacity<br>Data Category=%{x}<br>Numbers=%{y}<extra></extra>\",\"legendgroup\":\"Lung_Opacity\",\"marker\":{\"color\":\"#EF553B\",\"pattern\":{\"shape\":\"\"}},\"name\":\"Lung_Opacity\",\"offsetgroup\":\"Lung_Opacity\",\"orientation\":\"v\",\"showlegend\":true,\"textposition\":\"auto\",\"x\":[\"train\",\"val\",\"test\"],\"xaxis\":\"x\",\"y\":[4809,601,602],\"yaxis\":\"y\",\"type\":\"bar\"},{\"alignmentgroup\":\"True\",\"hovertemplate\":\"Classes=Viral Pneumonia<br>Data Category=%{x}<br>Numbers=%{y}<extra></extra>\",\"legendgroup\":\"Viral Pneumonia\",\"marker\":{\"color\":\"#00cc96\",\"pattern\":{\"shape\":\"\"}},\"name\":\"Viral Pneumonia\",\"offsetgroup\":\"Viral Pneumonia\",\"orientation\":\"v\",\"showlegend\":true,\"textposition\":\"auto\",\"x\":[\"train\",\"val\",\"test\"],\"xaxis\":\"x\",\"y\":[1076,134,135],\"yaxis\":\"y\",\"type\":\"bar\"},{\"alignmentgroup\":\"True\",\"hovertemplate\":\"Classes=Normal<br>Data Category=%{x}<br>Numbers=%{y}<extra></extra>\",\"legendgroup\":\"Normal\",\"marker\":{\"color\":\"#ab63fa\",\"pattern\":{\"shape\":\"\"}},\"name\":\"Normal\",\"offsetgroup\":\"Normal\",\"orientation\":\"v\",\"showlegend\":true,\"textposition\":\"auto\",\"x\":[\"train\",\"val\",\"test\"],\"xaxis\":\"x\",\"y\":[8153,1019,1020],\"yaxis\":\"y\",\"type\":\"bar\"}],                        {\"template\":{\"data\":{\"bar\":[{\"error_x\":{\"color\":\"#2a3f5f\"},\"error_y\":{\"color\":\"#2a3f5f\"},\"marker\":{\"line\":{\"color\":\"#E5ECF6\",\"width\":0.5},\"pattern\":{\"fillmode\":\"overlay\",\"size\":10,\"solidity\":0.2}},\"type\":\"bar\"}],\"barpolar\":[{\"marker\":{\"line\":{\"color\":\"#E5ECF6\",\"width\":0.5},\"pattern\":{\"fillmode\":\"overlay\",\"size\":10,\"solidity\":0.2}},\"type\":\"barpolar\"}],\"carpet\":[{\"aaxis\":{\"endlinecolor\":\"#2a3f5f\",\"gridcolor\":\"white\",\"linecolor\":\"white\",\"minorgridcolor\":\"white\",\"startlinecolor\":\"#2a3f5f\"},\"baxis\":{\"endlinecolor\":\"#2a3f5f\",\"gridcolor\":\"white\",\"linecolor\":\"white\",\"minorgridcolor\":\"white\",\"startlinecolor\":\"#2a3f5f\"},\"type\":\"carpet\"}],\"choropleth\":[{\"colorbar\":{\"outlinewidth\":0,\"ticks\":\"\"},\"type\":\"choropleth\"}],\"contour\":[{\"colorbar\":{\"outlinewidth\":0,\"ticks\":\"\"},\"colorscale\":[[0.0,\"#0d0887\"],[0.1111111111111111,\"#46039f\"],[0.2222222222222222,\"#7201a8\"],[0.3333333333333333,\"#9c179e\"],[0.4444444444444444,\"#bd3786\"],[0.5555555555555556,\"#d8576b\"],[0.6666666666666666,\"#ed7953\"],[0.7777777777777778,\"#fb9f3a\"],[0.8888888888888888,\"#fdca26\"],[1.0,\"#f0f921\"]],\"type\":\"contour\"}],\"contourcarpet\":[{\"colorbar\":{\"outlinewidth\":0,\"ticks\":\"\"},\"type\":\"contourcarpet\"}],\"heatmap\":[{\"colorbar\":{\"outlinewidth\":0,\"ticks\":\"\"},\"colorscale\":[[0.0,\"#0d0887\"],[0.1111111111111111,\"#46039f\"],[0.2222222222222222,\"#7201a8\"],[0.3333333333333333,\"#9c179e\"],[0.4444444444444444,\"#bd3786\"],[0.5555555555555556,\"#d8576b\"],[0.6666666666666666,\"#ed7953\"],[0.7777777777777778,\"#fb9f3a\"],[0.8888888888888888,\"#fdca26\"],[1.0,\"#f0f921\"]],\"type\":\"heatmap\"}],\"heatmapgl\":[{\"colorbar\":{\"outlinewidth\":0,\"ticks\":\"\"},\"colorscale\":[[0.0,\"#0d0887\"],[0.1111111111111111,\"#46039f\"],[0.2222222222222222,\"#7201a8\"],[0.3333333333333333,\"#9c179e\"],[0.4444444444444444,\"#bd3786\"],[0.5555555555555556,\"#d8576b\"],[0.6666666666666666,\"#ed7953\"],[0.7777777777777778,\"#fb9f3a\"],[0.8888888888888888,\"#fdca26\"],[1.0,\"#f0f921\"]],\"type\":\"heatmapgl\"}],\"histogram\":[{\"marker\":{\"pattern\":{\"fillmode\":\"overlay\",\"size\":10,\"solidity\":0.2}},\"type\":\"histogram\"}],\"histogram2d\":[{\"colorbar\":{\"outlinewidth\":0,\"ticks\":\"\"},\"colorscale\":[[0.0,\"#0d0887\"],[0.1111111111111111,\"#46039f\"],[0.2222222222222222,\"#7201a8\"],[0.3333333333333333,\"#9c179e\"],[0.4444444444444444,\"#bd3786\"],[0.5555555555555556,\"#d8576b\"],[0.6666666666666666,\"#ed7953\"],[0.7777777777777778,\"#fb9f3a\"],[0.8888888888888888,\"#fdca26\"],[1.0,\"#f0f921\"]],\"type\":\"histogram2d\"}],\"histogram2dcontour\":[{\"colorbar\":{\"outlinewidth\":0,\"ticks\":\"\"},\"colorscale\":[[0.0,\"#0d0887\"],[0.1111111111111111,\"#46039f\"],[0.2222222222222222,\"#7201a8\"],[0.3333333333333333,\"#9c179e\"],[0.4444444444444444,\"#bd3786\"],[0.5555555555555556,\"#d8576b\"],[0.6666666666666666,\"#ed7953\"],[0.7777777777777778,\"#fb9f3a\"],[0.8888888888888888,\"#fdca26\"],[1.0,\"#f0f921\"]],\"type\":\"histogram2dcontour\"}],\"mesh3d\":[{\"colorbar\":{\"outlinewidth\":0,\"ticks\":\"\"},\"type\":\"mesh3d\"}],\"parcoords\":[{\"line\":{\"colorbar\":{\"outlinewidth\":0,\"ticks\":\"\"}},\"type\":\"parcoords\"}],\"pie\":[{\"automargin\":true,\"type\":\"pie\"}],\"scatter\":[{\"marker\":{\"colorbar\":{\"outlinewidth\":0,\"ticks\":\"\"}},\"type\":\"scatter\"}],\"scatter3d\":[{\"line\":{\"colorbar\":{\"outlinewidth\":0,\"ticks\":\"\"}},\"marker\":{\"colorbar\":{\"outlinewidth\":0,\"ticks\":\"\"}},\"type\":\"scatter3d\"}],\"scattercarpet\":[{\"marker\":{\"colorbar\":{\"outlinewidth\":0,\"ticks\":\"\"}},\"type\":\"scattercarpet\"}],\"scattergeo\":[{\"marker\":{\"colorbar\":{\"outlinewidth\":0,\"ticks\":\"\"}},\"type\":\"scattergeo\"}],\"scattergl\":[{\"marker\":{\"colorbar\":{\"outlinewidth\":0,\"ticks\":\"\"}},\"type\":\"scattergl\"}],\"scattermapbox\":[{\"marker\":{\"colorbar\":{\"outlinewidth\":0,\"ticks\":\"\"}},\"type\":\"scattermapbox\"}],\"scatterpolar\":[{\"marker\":{\"colorbar\":{\"outlinewidth\":0,\"ticks\":\"\"}},\"type\":\"scatterpolar\"}],\"scatterpolargl\":[{\"marker\":{\"colorbar\":{\"outlinewidth\":0,\"ticks\":\"\"}},\"type\":\"scatterpolargl\"}],\"scatterternary\":[{\"marker\":{\"colorbar\":{\"outlinewidth\":0,\"ticks\":\"\"}},\"type\":\"scatterternary\"}],\"surface\":[{\"colorbar\":{\"outlinewidth\":0,\"ticks\":\"\"},\"colorscale\":[[0.0,\"#0d0887\"],[0.1111111111111111,\"#46039f\"],[0.2222222222222222,\"#7201a8\"],[0.3333333333333333,\"#9c179e\"],[0.4444444444444444,\"#bd3786\"],[0.5555555555555556,\"#d8576b\"],[0.6666666666666666,\"#ed7953\"],[0.7777777777777778,\"#fb9f3a\"],[0.8888888888888888,\"#fdca26\"],[1.0,\"#f0f921\"]],\"type\":\"surface\"}],\"table\":[{\"cells\":{\"fill\":{\"color\":\"#EBF0F8\"},\"line\":{\"color\":\"white\"}},\"header\":{\"fill\":{\"color\":\"#C8D4E3\"},\"line\":{\"color\":\"white\"}},\"type\":\"table\"}]},\"layout\":{\"annotationdefaults\":{\"arrowcolor\":\"#2a3f5f\",\"arrowhead\":0,\"arrowwidth\":1},\"autotypenumbers\":\"strict\",\"coloraxis\":{\"colorbar\":{\"outlinewidth\":0,\"ticks\":\"\"}},\"colorscale\":{\"diverging\":[[0,\"#8e0152\"],[0.1,\"#c51b7d\"],[0.2,\"#de77ae\"],[0.3,\"#f1b6da\"],[0.4,\"#fde0ef\"],[0.5,\"#f7f7f7\"],[0.6,\"#e6f5d0\"],[0.7,\"#b8e186\"],[0.8,\"#7fbc41\"],[0.9,\"#4d9221\"],[1,\"#276419\"]],\"sequential\":[[0.0,\"#0d0887\"],[0.1111111111111111,\"#46039f\"],[0.2222222222222222,\"#7201a8\"],[0.3333333333333333,\"#9c179e\"],[0.4444444444444444,\"#bd3786\"],[0.5555555555555556,\"#d8576b\"],[0.6666666666666666,\"#ed7953\"],[0.7777777777777778,\"#fb9f3a\"],[0.8888888888888888,\"#fdca26\"],[1.0,\"#f0f921\"]],\"sequentialminus\":[[0.0,\"#0d0887\"],[0.1111111111111111,\"#46039f\"],[0.2222222222222222,\"#7201a8\"],[0.3333333333333333,\"#9c179e\"],[0.4444444444444444,\"#bd3786\"],[0.5555555555555556,\"#d8576b\"],[0.6666666666666666,\"#ed7953\"],[0.7777777777777778,\"#fb9f3a\"],[0.8888888888888888,\"#fdca26\"],[1.0,\"#f0f921\"]]},\"colorway\":[\"#636efa\",\"#EF553B\",\"#00cc96\",\"#ab63fa\",\"#FFA15A\",\"#19d3f3\",\"#FF6692\",\"#B6E880\",\"#FF97FF\",\"#FECB52\"],\"font\":{\"color\":\"#2a3f5f\"},\"geo\":{\"bgcolor\":\"white\",\"lakecolor\":\"white\",\"landcolor\":\"#E5ECF6\",\"showlakes\":true,\"showland\":true,\"subunitcolor\":\"white\"},\"hoverlabel\":{\"align\":\"left\"},\"hovermode\":\"closest\",\"mapbox\":{\"style\":\"light\"},\"paper_bgcolor\":\"white\",\"plot_bgcolor\":\"#E5ECF6\",\"polar\":{\"angularaxis\":{\"gridcolor\":\"white\",\"linecolor\":\"white\",\"ticks\":\"\"},\"bgcolor\":\"#E5ECF6\",\"radialaxis\":{\"gridcolor\":\"white\",\"linecolor\":\"white\",\"ticks\":\"\"}},\"scene\":{\"xaxis\":{\"backgroundcolor\":\"#E5ECF6\",\"gridcolor\":\"white\",\"gridwidth\":2,\"linecolor\":\"white\",\"showbackground\":true,\"ticks\":\"\",\"zerolinecolor\":\"white\"},\"yaxis\":{\"backgroundcolor\":\"#E5ECF6\",\"gridcolor\":\"white\",\"gridwidth\":2,\"linecolor\":\"white\",\"showbackground\":true,\"ticks\":\"\",\"zerolinecolor\":\"white\"},\"zaxis\":{\"backgroundcolor\":\"#E5ECF6\",\"gridcolor\":\"white\",\"gridwidth\":2,\"linecolor\":\"white\",\"showbackground\":true,\"ticks\":\"\",\"zerolinecolor\":\"white\"}},\"shapedefaults\":{\"line\":{\"color\":\"#2a3f5f\"}},\"ternary\":{\"aaxis\":{\"gridcolor\":\"white\",\"linecolor\":\"white\",\"ticks\":\"\"},\"baxis\":{\"gridcolor\":\"white\",\"linecolor\":\"white\",\"ticks\":\"\"},\"bgcolor\":\"#E5ECF6\",\"caxis\":{\"gridcolor\":\"white\",\"linecolor\":\"white\",\"ticks\":\"\"}},\"title\":{\"x\":0.05},\"xaxis\":{\"automargin\":true,\"gridcolor\":\"white\",\"linecolor\":\"white\",\"ticks\":\"\",\"title\":{\"standoff\":15},\"zerolinecolor\":\"white\",\"zerolinewidth\":2},\"yaxis\":{\"automargin\":true,\"gridcolor\":\"white\",\"linecolor\":\"white\",\"ticks\":\"\",\"title\":{\"standoff\":15},\"zerolinecolor\":\"white\",\"zerolinewidth\":2}}},\"xaxis\":{\"anchor\":\"y\",\"domain\":[0.0,1.0],\"title\":{\"text\":\"Data Category\"}},\"yaxis\":{\"anchor\":\"x\",\"domain\":[0.0,1.0],\"title\":{\"text\":\"Numbers\"}},\"legend\":{\"title\":{\"text\":\"Classes\"},\"tracegroupgap\":0},\"title\":{\"text\":\"Data Distribution\"},\"barmode\":\"relative\"},                        {\"responsive\": true}                    ).then(function(){\n",
              "                            \n",
              "var gd = document.getElementById('61c476c0-cbdf-4810-85fa-bd7a63fff294');\n",
              "var x = new MutationObserver(function (mutations, observer) {{\n",
              "        var display = window.getComputedStyle(gd).display;\n",
              "        if (!display || display === 'none') {{\n",
              "            console.log([gd, 'removed!']);\n",
              "            Plotly.purge(gd);\n",
              "            observer.disconnect();\n",
              "        }}\n",
              "}});\n",
              "\n",
              "// Listen for the removal of the full notebook cells\n",
              "var notebookContainer = gd.closest('#notebook-container');\n",
              "if (notebookContainer) {{\n",
              "    x.observe(notebookContainer, {childList: true});\n",
              "}}\n",
              "\n",
              "// Listen for the clearing of the current output cell\n",
              "var outputEl = gd.closest('.output');\n",
              "if (outputEl) {{\n",
              "    x.observe(outputEl, {childList: true});\n",
              "}}\n",
              "\n",
              "                        })                };                            </script>        </div>\n",
              "</body>\n",
              "</html>"
            ]
          },
          "metadata": {}
        }
      ]
    },
    {
      "cell_type": "code",
      "source": [
        "# importing libraries\n",
        "\n",
        "import torch\n",
        "import torch.nn as nn\n",
        "import torch.optim as optim\n",
        "from torch.optim import lr_scheduler\n",
        "import torch.backends.cudnn as cudnn\n",
        "import numpy as np\n",
        "import torchvision\n",
        "from torchvision import datasets, models, transforms\n",
        "import matplotlib.pyplot as plt\n",
        "import time\n",
        "import os\n",
        "import copy\n",
        "\n",
        "cudnn.benchmark = True\n",
        "plt.ion()   # interactive mode"
      ],
      "metadata": {
        "id": "RjuN5ghixRWv"
      },
      "execution_count": 6,
      "outputs": []
    },
    {
      "cell_type": "code",
      "source": [
        "# Data augmentation and normalization for training\n",
        "# Just normalization for validation\n",
        "data_transforms = {\n",
        "    'train': transforms.Compose([ \n",
        "        transforms.Resize(256),\n",
        "        transforms.CenterCrop(224),\n",
        "        transforms.ColorJitter(),\n",
        "        transforms.RandomHorizontalFlip(),\n",
        "        transforms.ToTensor(),\n",
        "        transforms.Normalize([0.485, 0.456, 0.406], [0.229, 0.224, 0.225])\n",
        "    ]),\n",
        "    'val': transforms.Compose([\n",
        "        transforms.Resize(256),\n",
        "        transforms.CenterCrop(224),\n",
        "        transforms.ToTensor(),\n",
        "        transforms.Normalize([0.485, 0.456, 0.406], [0.229, 0.224, 0.225])\n",
        "    ]),\n",
        "    'test': transforms.Compose([\n",
        "        transforms.Resize(256),\n",
        "        transforms.CenterCrop(224),\n",
        "        transforms.ToTensor(),\n",
        "        transforms.Normalize([0.485, 0.456, 0.406], [0.229, 0.224, 0.225])\n",
        "    ]),\n",
        "}\n",
        "\n",
        "data_dir = 'datasets'\n",
        "image_datasets = {x: datasets.ImageFolder(os.path.join(data_dir, x),\n",
        "                                          data_transforms[x])\n",
        "                  for x in ['train','val', 'test']}\n",
        "dataloaders = {x: torch.utils.data.DataLoader(image_datasets[x], batch_size=8,\n",
        "                                             shuffle=True, num_workers=2)\n",
        "              for x in ['train','val', 'test']}\n",
        "dataset_sizes = {x: len(image_datasets[x]) for x in ['train','val', 'test']}\n",
        "class_names = image_datasets['train'].classes\n",
        "\n",
        "device = torch.device(\"cuda:0\" if torch.cuda.is_available() else \"cpu\")"
      ],
      "metadata": {
        "id": "jmJxTKgixp6z"
      },
      "execution_count": 7,
      "outputs": []
    },
    {
      "cell_type": "code",
      "source": [
        "image_datasets"
      ],
      "metadata": {
        "colab": {
          "base_uri": "https://localhost:8080/"
        },
        "id": "uF36iUxxx3-r",
        "outputId": "074005ae-bf0c-4566-c967-996962fe6e16"
      },
      "execution_count": 8,
      "outputs": [
        {
          "output_type": "execute_result",
          "data": {
            "text/plain": [
              "{'test': Dataset ImageFolder\n",
              "     Number of datapoints: 2119\n",
              "     Root location: datasets/test\n",
              "     StandardTransform\n",
              " Transform: Compose(\n",
              "                Resize(size=256, interpolation=bilinear, max_size=None, antialias=None)\n",
              "                CenterCrop(size=(224, 224))\n",
              "                ToTensor()\n",
              "                Normalize(mean=[0.485, 0.456, 0.406], std=[0.229, 0.224, 0.225])\n",
              "            ), 'train': Dataset ImageFolder\n",
              "     Number of datapoints: 16930\n",
              "     Root location: datasets/train\n",
              "     StandardTransform\n",
              " Transform: Compose(\n",
              "                Resize(size=256, interpolation=bilinear, max_size=None, antialias=None)\n",
              "                CenterCrop(size=(224, 224))\n",
              "                ColorJitter(brightness=None, contrast=None, saturation=None, hue=None)\n",
              "                RandomHorizontalFlip(p=0.5)\n",
              "                ToTensor()\n",
              "                Normalize(mean=[0.485, 0.456, 0.406], std=[0.229, 0.224, 0.225])\n",
              "            ), 'val': Dataset ImageFolder\n",
              "     Number of datapoints: 2116\n",
              "     Root location: datasets/val\n",
              "     StandardTransform\n",
              " Transform: Compose(\n",
              "                Resize(size=256, interpolation=bilinear, max_size=None, antialias=None)\n",
              "                CenterCrop(size=(224, 224))\n",
              "                ToTensor()\n",
              "                Normalize(mean=[0.485, 0.456, 0.406], std=[0.229, 0.224, 0.225])\n",
              "            )}"
            ]
          },
          "metadata": {},
          "execution_count": 8
        }
      ]
    },
    {
      "cell_type": "code",
      "source": [
        "def imshow(inp, title=None):\n",
        "    \"\"\"Imshow for Tensor.\"\"\"\n",
        "    inp = inp.numpy().transpose((1, 2, 0))\n",
        "    mean = np.array([0.485, 0.456, 0.406])\n",
        "    std = np.array([0.229, 0.224, 0.225])\n",
        "    inp = std * inp + mean\n",
        "    inp = np.clip(inp, 0, 1)\n",
        "    plt.imshow(inp)\n",
        "    if title is not None:\n",
        "        plt.title(title)\n",
        "    plt.pause(0.001)  # pause a bit so that plots are updated\n",
        "\n",
        "\n",
        "# Get a batch of training data\n",
        "inputs, classes = next(iter(dataloaders['train']))\n",
        "\n",
        "# Make a grid from batch\n",
        "out = torchvision.utils.make_grid(inputs)\n",
        "\n",
        "imshow(out, title=[class_names[x] for x in classes])"
      ],
      "metadata": {
        "colab": {
          "base_uri": "https://localhost:8080/",
          "height": 106
        },
        "id": "GFtFn95nx9TS",
        "outputId": "206a40ef-1212-4c42-f4b2-04dc57bbf743"
      },
      "execution_count": 9,
      "outputs": [
        {
          "output_type": "display_data",
          "data": {
            "text/plain": [
              "<Figure size 432x288 with 1 Axes>"
            ],
            "image/png": "[encoded data removed]"
          },
          "metadata": {
            "needs_background": "light"
          }
        }
      ]
    },
    {
      "cell_type": "code",
      "source": [
        "def train_model(model, criterion, optimizer, scheduler, num_epochs=25):\n",
        "    since = time.time()\n",
        "\n",
        "    best_model_wts = copy.deepcopy(model.state_dict())\n",
        "    best_acc = 0.0\n",
        "\n",
        "    for epoch in range(num_epochs):\n",
        "        print(f'Epoch {epoch}/{num_epochs - 1}')\n",
        "        print('-' * 10)\n",
        "\n",
        "        # Each epoch has a training and validation phase\n",
        "        for phase in ['train', 'val']:\n",
        "            if phase == 'train':\n",
        "                model.train()  # Set model to training mode\n",
        "            else:\n",
        "                model.eval()   # Set model to evaluate mode\n",
        "\n",
        "            running_loss = 0.0\n",
        "            running_corrects = 0\n",
        "\n",
        "            # Iterate over data.\n",
        "            for inputs, labels in dataloaders[phase]:\n",
        "                inputs = inputs.to(device)\n",
        "                labels = labels.to(device)\n",
        "\n",
        "                # zero the parameter gradients\n",
        "                optimizer.zero_grad()\n",
        "\n",
        "                # forward\n",
        "                # track history if only in train\n",
        "                with torch.set_grad_enabled(phase == 'train'):\n",
        "                    outputs = model(inputs)\n",
        "                    _, preds = torch.max(outputs, 1)\n",
        "                    loss = criterion(outputs, labels)\n",
        "\n",
        "                    # backward + optimize only if in training phase\n",
        "                    if phase == 'train':\n",
        "                        loss.backward()\n",
        "                        optimizer.step()\n",
        "\n",
        "                # statistics\n",
        "                running_loss += loss.item() * inputs.size(0)\n",
        "                running_corrects += torch.sum(preds == labels.data)\n",
        "            if phase == 'train':\n",
        "                scheduler.step()\n",
        "\n",
        "            epoch_loss = running_loss / dataset_sizes[phase]\n",
        "            epoch_acc = running_corrects.double() / dataset_sizes[phase]\n",
        "\n",
        "            print(f'{phase} Loss: {epoch_loss:.4f} Acc: {epoch_acc:.4f}')\n",
        "\n",
        "            # deep copy the model\n",
        "            if phase == 'val' and epoch_acc > best_acc:\n",
        "                best_acc = epoch_acc\n",
        "                best_model_wts = copy.deepcopy(model.state_dict())\n",
        "\n",
        "        print()\n",
        "\n",
        "    time_elapsed = time.time() - since\n",
        "    print(f'Training complete in {time_elapsed // 60:.0f}m {time_elapsed % 60:.0f}s')\n",
        "    print(f'Best val Acc: {best_acc:4f}')\n",
        "\n",
        "    # load best model weights\n",
        "    model.load_state_dict(best_model_wts)\n",
        "    return model"
      ],
      "metadata": {
        "id": "B1ln9eHXyQtp"
      },
      "execution_count": 10,
      "outputs": []
    },
    {
      "cell_type": "code",
      "source": [
        "def visualize_model(model, num_images=6):\n",
        "    was_training = model.training\n",
        "    model.eval()\n",
        "    images_so_far = 0\n",
        "    fig = plt.figure()\n",
        "\n",
        "    with torch.no_grad():\n",
        "        for i, (inputs, labels) in enumerate(dataloaders['test']):\n",
        "            inputs = inputs.to(device)\n",
        "            labels = labels.to(device)\n",
        "\n",
        "            outputs = model(inputs)\n",
        "            _, preds = torch.max(outputs, 1)\n",
        "\n",
        "            for j in range(inputs.size()[0]):\n",
        "                images_so_far += 1\n",
        "                ax = plt.subplot(num_images//2, 2, images_so_far)\n",
        "                ax.axis('off')\n",
        "                ax.set_title(f'predicted: {class_names[preds[j]]}')\n",
        "                imshow(inputs.cpu().data[j])\n",
        "\n",
        "                if images_so_far == num_images:\n",
        "                    model.train(mode=was_training)\n",
        "                    return\n",
        "        model.train(mode=was_training)"
      ],
      "metadata": {
        "id": "wPzqdhz8y4RL"
      },
      "execution_count": 11,
      "outputs": []
    },
    {
      "cell_type": "code",
      "source": [
        "# define model\n",
        "\n",
        "class DenseNet121(nn.Module):\n",
        "    \"\"\"DenseNet121 pretrained model definition.\"\"\"\n",
        "    def __init__(self,out_size:int):\n",
        "        super(DenseNet121,self).__init__()\n",
        "        self.model = torchvision.models.densenet121(pretrained=True)\n",
        "        for param in self.model.parameters():\n",
        "            param.requires_grad = False\n",
        "        in_features = self.model.classifier.in_features\n",
        "        self.model.classifier = nn.Sequential(\n",
        "                nn.Linear(in_features,in_features*2),\n",
        "                nn.Dropout(0.5),\n",
        "                nn.Linear(in_features*2,in_features),\n",
        "                nn.Dropout(0.30),\n",
        "                nn.Linear(in_features,in_features//2),\n",
        "                nn.Dropout(0.25),\n",
        "                nn.Linear(in_features//2,out_size),\n",
        "                nn.Softmax()\n",
        "            )\n",
        "    def forward(self,x):\n",
        "        return self.model(x)\n",
        "\n",
        "model = DenseNet121(out_size=4)\n",
        "model = model.to(device)"
      ],
      "metadata": {
        "colab": {
          "base_uri": "https://localhost:8080/",
          "height": 225,
          "referenced_widgets": [
            "ebe297df22d34dcaae0f21537b50df44",
            "c344d8fb172348eea21a49faec9ab8c3",
            "ec3b7ac9801149db8b5bc136dbb97a37",
            "1f40e39a825145cd9439a131fd58b807",
            "d17aee74bcf54e05819c9b4e4667e9ed",
            "e97be620dfea4c1582c8446c6bc470dd",
            "bc33ab039d034187bde0c6124f1e2013",
            "d833b79e8c50449b8e909d9a881770f7",
            "6d89b0be60e64106b698b42f64ae7a5e",
            "0d26df229bcd4dc6975954d3af7ced67",
            "29e63293c1a54fd6b8b300db97a34f9f"
          ]
        },
        "id": "-7Lne0Ljy8Z1",
        "outputId": "4df6c25a-a0fc-403b-be45-68d08a0eca7d"
      },
      "execution_count": 12,
      "outputs": [
        {
          "output_type": "stream",
          "name": "stderr",
          "text": [
            "/usr/local/lib/python3.7/dist-packages/torchvision/models/_utils.py:209: UserWarning:\n",
            "\n",
            "The parameter 'pretrained' is deprecated since 0.13 and will be removed in 0.15, please use 'weights' instead.\n",
            "\n",
            "/usr/local/lib/python3.7/dist-packages/torchvision/models/_utils.py:223: UserWarning:\n",
            "\n",
            "Arguments other than a weight enum or `None` for 'weights' are deprecated since 0.13 and will be removed in 0.15. The current behavior is equivalent to passing `weights=DenseNet121_Weights.IMAGENET1K_V1`. You can also use `weights=DenseNet121_Weights.DEFAULT` to get the most up-to-date weights.\n",
            "\n",
            "Downloading: \"https://download.pytorch.org/models/densenet121-a639ec97.pth\" to /root/.cache/torch/hub/checkpoints/densenet121-a639ec97.pth\n"
          ]
        },
        {
          "output_type": "display_data",
          "data": {
            "text/plain": [
              "  0%|          | 0.00/30.8M [00:00<?, ?B/s]"
            ],
            "application/vnd.jupyter.widget-view+json": {
              "version_major": 2,
              "version_minor": 0,
              "model_id": "ebe297df22d34dcaae0f21537b50df44"
            }
          },
          "metadata": {}
        }
      ]
    },
    {
      "cell_type": "code",
      "source": [
        "criterion = nn.CrossEntropyLoss()\n",
        "\n",
        "# Observe that only parameters of final layer are being optimized as\n",
        "# opposed to before.\n",
        "optimizer_conv = optim.SGD(model.parameters(), lr=0.001, momentum=0.9)\n",
        "\n",
        "# Decay LR by a factor of 0.1 every 7 epochs\n",
        "exp_lr_scheduler = lr_scheduler.StepLR(optimizer_conv, step_size=7, gamma=0.1)\n",
        "\n",
        "model_conv = train_model(model, criterion, optimizer_conv,\n",
        "                         exp_lr_scheduler, num_epochs=20)"
      ],
      "metadata": {
        "colab": {
          "base_uri": "https://localhost:8080/"
        },
        "id": "6rh-J9MyzBwg",
        "outputId": "064c91d4-84bf-48e9-98ff-c622dc591c4f"
      },
      "execution_count": 19,
      "outputs": [
        {
          "output_type": "stream",
          "name": "stdout",
          "text": [
            "Epoch 0/19\n",
            "----------\n"
          ]
        },
        {
          "output_type": "stream",
          "name": "stderr",
          "text": [
            "/usr/local/lib/python3.7/dist-packages/torch/nn/modules/container.py:139: UserWarning:\n",
            "\n",
            "Implicit dimension choice for softmax has been deprecated. Change the call to include dim=X as an argument.\n",
            "\n"
          ]
        },
        {
          "output_type": "stream",
          "name": "stdout",
          "text": [
            "train Loss: 0.9361 Acc: 0.8041\n",
            "val Loss: 0.9021 Acc: 0.8360\n",
            "\n",
            "Epoch 1/19\n",
            "----------\n",
            "train Loss: 0.9423 Acc: 0.7969\n",
            "val Loss: 0.9047 Acc: 0.8360\n",
            "\n",
            "Epoch 2/19\n",
            "----------\n",
            "train Loss: 0.9362 Acc: 0.8035\n",
            "val Loss: 0.8995 Acc: 0.8388\n",
            "\n",
            "Epoch 3/19\n",
            "----------\n",
            "train Loss: 0.9359 Acc: 0.8044\n",
            "val Loss: 0.9108 Acc: 0.8275\n",
            "\n",
            "Epoch 4/19\n",
            "----------\n",
            "train Loss: 0.9347 Acc: 0.8050\n",
            "val Loss: 0.9040 Acc: 0.8374\n",
            "\n",
            "Epoch 5/19\n",
            "----------\n",
            "train Loss: 0.9326 Acc: 0.8073\n",
            "val Loss: 0.9057 Acc: 0.8336\n",
            "\n",
            "Epoch 6/19\n",
            "----------\n",
            "train Loss: 0.9333 Acc: 0.8075\n",
            "val Loss: 0.9007 Acc: 0.8417\n",
            "\n",
            "Epoch 7/19\n",
            "----------\n",
            "train Loss: 0.9217 Acc: 0.8182\n",
            "val Loss: 0.9000 Acc: 0.8393\n",
            "\n",
            "Epoch 8/19\n",
            "----------\n",
            "train Loss: 0.9187 Acc: 0.8220\n",
            "val Loss: 0.8980 Acc: 0.8440\n",
            "\n",
            "Epoch 9/19\n",
            "----------\n",
            "train Loss: 0.9181 Acc: 0.8214\n",
            "val Loss: 0.8933 Acc: 0.8450\n",
            "\n",
            "Epoch 10/19\n",
            "----------\n",
            "train Loss: 0.9206 Acc: 0.8184\n",
            "val Loss: 0.8982 Acc: 0.8412\n",
            "\n",
            "Epoch 11/19\n",
            "----------\n",
            "train Loss: 0.9184 Acc: 0.8218\n",
            "val Loss: 0.8957 Acc: 0.8483\n",
            "\n",
            "Epoch 12/19\n",
            "----------\n",
            "train Loss: 0.9169 Acc: 0.8236\n",
            "val Loss: 0.8952 Acc: 0.8431\n",
            "\n",
            "Epoch 13/19\n",
            "----------\n",
            "train Loss: 0.9191 Acc: 0.8212\n",
            "val Loss: 0.8930 Acc: 0.8492\n",
            "\n",
            "Epoch 14/19\n",
            "----------\n",
            "train Loss: 0.9164 Acc: 0.8243\n",
            "val Loss: 0.8913 Acc: 0.8516\n",
            "\n",
            "Epoch 15/19\n",
            "----------\n",
            "train Loss: 0.9138 Acc: 0.8258\n",
            "val Loss: 0.8932 Acc: 0.8440\n",
            "\n",
            "Epoch 16/19\n",
            "----------\n",
            "train Loss: 0.9146 Acc: 0.8259\n",
            "val Loss: 0.8959 Acc: 0.8450\n",
            "\n",
            "Epoch 17/19\n",
            "----------\n",
            "train Loss: 0.9161 Acc: 0.8253\n",
            "val Loss: 0.8928 Acc: 0.8488\n",
            "\n",
            "Epoch 18/19\n",
            "----------\n",
            "train Loss: 0.9173 Acc: 0.8223\n",
            "val Loss: 0.8991 Acc: 0.8422\n",
            "\n",
            "Epoch 19/19\n",
            "----------\n",
            "train Loss: 0.9129 Acc: 0.8286\n",
            "val Loss: 0.8932 Acc: 0.8440\n",
            "\n",
            "Training complete in 38m 56s\n",
            "Best val Acc: 0.851607\n"
          ]
        }
      ]
    },
    {
      "cell_type": "code",
      "source": [
        "model_conv = train_model(model, criterion, optimizer_conv,\n",
        "                         exp_lr_scheduler, num_epochs=20)"
      ],
      "metadata": {
        "colab": {
          "base_uri": "https://localhost:8080/"
        },
        "id": "Dt4f_TSuXTUG",
        "outputId": "603a89b4-1acc-4b09-9918-91674242e054"
      },
      "execution_count": 20,
      "outputs": [
        {
          "output_type": "stream",
          "name": "stdout",
          "text": [
            "Epoch 0/19\n",
            "----------\n"
          ]
        },
        {
          "output_type": "stream",
          "name": "stderr",
          "text": [
            "/usr/local/lib/python3.7/dist-packages/torch/nn/modules/container.py:139: UserWarning:\n",
            "\n",
            "Implicit dimension choice for softmax has been deprecated. Change the call to include dim=X as an argument.\n",
            "\n"
          ]
        },
        {
          "output_type": "stream",
          "name": "stdout",
          "text": [
            "train Loss: 0.9165 Acc: 0.8251\n",
            "val Loss: 0.8938 Acc: 0.8450\n",
            "\n",
            "Epoch 1/19\n",
            "----------\n",
            "train Loss: 0.9161 Acc: 0.8243\n",
            "val Loss: 0.8870 Acc: 0.8544\n",
            "\n",
            "Epoch 2/19\n",
            "----------\n",
            "train Loss: 0.9153 Acc: 0.8252\n",
            "val Loss: 0.8932 Acc: 0.8459\n",
            "\n",
            "Epoch 3/19\n",
            "----------\n",
            "train Loss: 0.9186 Acc: 0.8214\n",
            "val Loss: 0.8975 Acc: 0.8431\n",
            "\n",
            "Epoch 4/19\n",
            "----------\n",
            "train Loss: 0.9144 Acc: 0.8271\n",
            "val Loss: 0.8974 Acc: 0.8417\n",
            "\n",
            "Epoch 5/19\n",
            "----------\n",
            "train Loss: 0.9134 Acc: 0.8278\n",
            "val Loss: 0.9031 Acc: 0.8351\n",
            "\n",
            "Epoch 6/19\n",
            "----------\n",
            "train Loss: 0.9197 Acc: 0.8206\n",
            "val Loss: 0.8932 Acc: 0.8478\n",
            "\n",
            "Epoch 7/19\n",
            "----------\n",
            "train Loss: 0.9126 Acc: 0.8277\n",
            "val Loss: 0.8920 Acc: 0.8478\n",
            "\n",
            "Epoch 8/19\n",
            "----------\n",
            "train Loss: 0.9162 Acc: 0.8242\n",
            "val Loss: 0.9007 Acc: 0.8426\n",
            "\n",
            "Epoch 9/19\n",
            "----------\n",
            "train Loss: 0.9163 Acc: 0.8233\n",
            "val Loss: 0.8931 Acc: 0.8521\n",
            "\n",
            "Epoch 10/19\n",
            "----------\n",
            "train Loss: 0.9133 Acc: 0.8271\n",
            "val Loss: 0.8983 Acc: 0.8417\n",
            "\n",
            "Epoch 11/19\n",
            "----------\n",
            "train Loss: 0.9152 Acc: 0.8252\n",
            "val Loss: 0.8954 Acc: 0.8440\n",
            "\n",
            "Epoch 12/19\n",
            "----------\n",
            "train Loss: 0.9148 Acc: 0.8267\n",
            "val Loss: 0.8943 Acc: 0.8483\n",
            "\n",
            "Epoch 13/19\n",
            "----------\n",
            "train Loss: 0.9158 Acc: 0.8244\n",
            "val Loss: 0.8976 Acc: 0.8407\n",
            "\n",
            "Epoch 14/19\n",
            "----------\n",
            "train Loss: 0.9129 Acc: 0.8272\n",
            "val Loss: 0.8994 Acc: 0.8417\n",
            "\n",
            "Epoch 15/19\n",
            "----------\n",
            "train Loss: 0.9139 Acc: 0.8268\n",
            "val Loss: 0.8957 Acc: 0.8445\n",
            "\n",
            "Epoch 16/19\n",
            "----------\n",
            "train Loss: 0.9139 Acc: 0.8263\n",
            "val Loss: 0.8948 Acc: 0.8469\n",
            "\n",
            "Epoch 17/19\n",
            "----------\n",
            "train Loss: 0.9198 Acc: 0.8197\n",
            "val Loss: 0.9070 Acc: 0.8332\n",
            "\n",
            "Epoch 18/19\n",
            "----------\n",
            "train Loss: 0.9160 Acc: 0.8239\n",
            "val Loss: 0.8927 Acc: 0.8497\n",
            "\n",
            "Epoch 19/19\n",
            "----------\n",
            "train Loss: 0.9162 Acc: 0.8243\n",
            "val Loss: 0.8977 Acc: 0.8407\n",
            "\n",
            "Training complete in 38m 44s\n",
            "Best val Acc: 0.854442\n"
          ]
        }
      ]
    },
    {
      "cell_type": "code",
      "source": [
        "torch.save(model_conv, \"covid-19.pt\")"
      ],
      "metadata": {
        "id": "XVKaqTcEgbEz"
      },
      "execution_count": 21,
      "outputs": []
    },
    {
      "cell_type": "code",
      "source": [
        "visualize_model(model_conv)\n",
        "\n",
        "plt.ioff()\n",
        "plt.show()"
      ],
      "metadata": {
        "colab": {
          "base_uri": "https://localhost:8080/",
          "height": 650
        },
        "id": "jGI1l7U1zOkV",
        "outputId": "b5881ae6-56a4-4e45-94f2-3694a06ecb50"
      },
      "execution_count": 26,
      "outputs": [
        {
          "output_type": "stream",
          "name": "stderr",
          "text": [
            "/usr/local/lib/python3.7/dist-packages/torch/nn/modules/container.py:139: UserWarning:\n",
            "\n",
            "Implicit dimension choice for softmax has been deprecated. Change the call to include dim=X as an argument.\n",
            "\n"
          ]
        },
        {
          "output_type": "display_data",
          "data": {
            "text/plain": [
              "<Figure size 432x288 with 1 Axes>"
            ],
            "image/png": "[encoded data removed]"
          },
          "metadata": {
            "needs_background": "light"
          }
        },
        {
          "output_type": "display_data",
          "data": {
            "text/plain": [
              "<Figure size 432x288 with 1 Axes>"
            ],
            "image/png": "[encoded data removed]"
          },
          "metadata": {
            "needs_background": "light"
          }
        },
        {
          "output_type": "display_data",
          "data": {
            "text/plain": [
              "<Figure size 432x288 with 1 Axes>"
            ],
            "image/png": "[encoded data removed]"
          },
          "metadata": {
            "needs_background": "light"
          }
        },
        {
          "output_type": "display_data",
          "data": {
            "text/plain": [
              "<Figure size 432x288 with 1 Axes>"
            ],
            "image/png": "[encoded data removed]"
          },
          "metadata": {
            "needs_background": "light"
          }
        },
        {
          "output_type": "display_data",
          "data": {
            "text/plain": [
              "<Figure size 432x288 with 1 Axes>"
            ],
            "image/png": "[encoded data removed]"
          },
          "metadata": {
            "needs_background": "light"
          }
        },
        {
          "output_type": "display_data",
          "data": {
            "text/plain": [
              "<Figure size 432x288 with 1 Axes>"
            ],
            "image/png": "[encoded data removed]"
          },
          "metadata": {
            "needs_background": "light"
          }
        }
      ]
    },
    {
      "cell_type": "code",
      "source": [
        "from sklearn.metrics import classification_report,confusion_matrix,log_loss\n",
        "def gen_metrics(preds,labels):\n",
        "  _, preds = torch.max(preds, 1)\n",
        "  labels  = labels.detach().cpu().numpy()\n",
        "  preds   = preds.detach().cpu().numpy()\n",
        "  target_names = classes\n",
        "  print(classification_report(labels,preds, target_names=target_names))\n",
        "\n",
        "  #Generate the confusion matrix\n",
        "  cf_matrix = confusion_matrix(labels,preds)\n",
        "  print(\"cf_matrix\")\n",
        "  print(cf_matrix)\n",
        "\n",
        "  print(\"lg_loss\")\n",
        "  lg_loss = log_loss(labels,preds)\n",
        "  print(lg_loss)\n",
        "\n",
        "val_d = torch.utils.data.DataLoader(image_datasets[\"val\"],batch_size=100)\n",
        "test_d = torch.utils.data.DataLoader(image_datasets[\"test\"],batch_size=100)\n",
        "\n",
        "labels_v = []\n",
        "outputs_v = []\n",
        "\n",
        "labels_t = []\n",
        "outputs_t = []\n",
        "\n",
        "model_conv.eval()\n",
        "with torch.no_grad():\n",
        "    for i, (inputs, labels) in enumerate(val_d):\n",
        "        inputs = inputs.to(device)\n",
        "        labels_v += labels.to(device)\n",
        "        outputs_v += model_conv(inputs)\n",
        "\n",
        "model_conv.eval()\n",
        "with torch.no_grad():\n",
        "    for i, (inputs, labels) in enumerate(test_d):\n",
        "        inputs = inputs.to(device)\n",
        "        labels_t += labels.to(device)\n",
        "        outputs_t += model_conv(inputs)"
      ],
      "metadata": {
        "id": "f7M6PuH3zXp4",
        "colab": {
          "base_uri": "https://localhost:8080/"
        },
        "outputId": "214db8c7-9e47-47e3-c4e1-97acfa341e53"
      },
      "execution_count": 27,
      "outputs": [
        {
          "output_type": "stream",
          "name": "stderr",
          "text": [
            "/usr/local/lib/python3.7/dist-packages/torch/nn/modules/container.py:139: UserWarning:\n",
            "\n",
            "Implicit dimension choice for softmax has been deprecated. Change the call to include dim=X as an argument.\n",
            "\n"
          ]
        }
      ]
    },
    {
      "cell_type": "code",
      "source": [
        "import itertools\n",
        "import numpy as np\n",
        "import matplotlib.pyplot as plt\n",
        "\n",
        "def plot_confusion_matrix(cm, classes, normalize=False, title='Confusion matrix', cmap=plt.cm.Blues):\n",
        "    if normalize:\n",
        "        cm = cm.astype('float') / cm.sum(axis=1)[:, np.newaxis]\n",
        "        print(\"Normalized confusion matrix\")\n",
        "    else:\n",
        "        print('Confusion matrix, without normalization')\n",
        "\n",
        "    print(cm)\n",
        "    plt.imshow(cm, interpolation='nearest', cmap=cmap)\n",
        "    plt.title(title)\n",
        "    plt.colorbar()\n",
        "    tick_marks = np.arange(len(classes))\n",
        "    plt.xticks(tick_marks, classes, rotation=45)\n",
        "    plt.yticks(tick_marks, classes)\n",
        "\n",
        "    fmt = '.2f' if normalize else 'd'\n",
        "    thresh = cm.max() / 2.\n",
        "    for i, j in itertools.product(range(cm.shape[0]), range(cm.shape[1])):\n",
        "        plt.text(j, i, format(cm[i, j], fmt), horizontalalignment=\"center\", color=\"white\" if cm[i, j] > thresh else \"black\")\n",
        "\n",
        "    plt.tight_layout()\n",
        "    plt.ylabel('True label')\n",
        "    plt.xlabel('Predicted label')\n",
        "\n",
        "def gen_metrics(preds,labels):\n",
        "  preds = [torch.argmax(pred).detach().cpu().item() for pred in preds]\n",
        "  labels  = [label.detach().cpu().item() for label in labels]\n",
        "  target_names = [\"COVID\",\"Lung_Opacity\",\"Viral Pneumonia\",\"Normal\"]\n",
        "  print(classification_report(labels,preds,target_names=target_names))\n",
        "\n",
        "  #Generate the confusion matrix\n",
        "  cm = confusion_matrix(labels,preds)\n",
        "  plt.figure(figsize=(10,10))\n",
        "  plot_confusion_matrix(cm, target_names)\n"
      ],
      "metadata": {
        "id": "k0yJA4eY8uOy"
      },
      "execution_count": 28,
      "outputs": []
    },
    {
      "cell_type": "code",
      "source": [
        "#Generate metrics for val data\n",
        "gen_metrics(outputs_v,labels_v)"
      ],
      "metadata": {
        "colab": {
          "base_uri": "https://localhost:8080/",
          "height": 984
        },
        "id": "vw4tPdD98onV",
        "outputId": "1b1428d3-02ef-40ff-949b-c24c0db69490"
      },
      "execution_count": 29,
      "outputs": [
        {
          "output_type": "stream",
          "name": "stdout",
          "text": [
            "                 precision    recall  f1-score   support\n",
            "\n",
            "          COVID       0.84      0.78      0.81       362\n",
            "   Lung_Opacity       0.86      0.78      0.82       601\n",
            "Viral Pneumonia       0.85      0.92      0.89      1019\n",
            "         Normal       0.87      0.85      0.86       134\n",
            "\n",
            "       accuracy                           0.85      2116\n",
            "      macro avg       0.86      0.83      0.84      2116\n",
            "   weighted avg       0.85      0.85      0.85      2116\n",
            "\n",
            "Confusion matrix, without normalization\n",
            "[[284  26  50   2]\n",
            " [ 31 469  98   3]\n",
            " [ 21  45 941  12]\n",
            " [  1   4  15 114]]\n"
          ]
        },
        {
          "output_type": "display_data",
          "data": {
            "text/plain": [
              "<Figure size 720x720 with 2 Axes>"
            ],
            "image/png": "[encoded data removed]"
          },
          "metadata": {
            "needs_background": "light"
          }
        }
      ]
    },
    {
      "cell_type": "code",
      "source": [
        "#Generate metrics for test data\n",
        "gen_metrics(outputs_t,labels_t)"
      ],
      "metadata": {
        "colab": {
          "base_uri": "https://localhost:8080/",
          "height": 990
        },
        "id": "laiqQ4Djz3li",
        "outputId": "f8b20274-84a2-4348-bcc9-519961e42062"
      },
      "execution_count": 30,
      "outputs": [
        {
          "output_type": "stream",
          "name": "stdout",
          "text": [
            "                 precision    recall  f1-score   support\n",
            "\n",
            "          COVID       0.82      0.76      0.79       362\n",
            "   Lung_Opacity       0.84      0.80      0.82       602\n",
            "Viral Pneumonia       0.86      0.91      0.89      1020\n",
            "         Normal       0.92      0.86      0.89       135\n",
            "\n",
            "       accuracy                           0.85      2119\n",
            "      macro avg       0.86      0.83      0.85      2119\n",
            "   weighted avg       0.85      0.85      0.85      2119\n",
            "\n",
            "Confusion matrix, without normalization\n",
            "[[274  29  55   4]\n",
            " [ 35 484  81   2]\n",
            " [ 24  60 932   4]\n",
            " [  0   2  17 116]]\n"
          ]
        },
        {
          "output_type": "display_data",
          "data": {
            "text/plain": [
              "<Figure size 720x720 with 2 Axes>"
            ],
            "image/png": "[encoded data removed]"
          },
          "metadata": {
            "needs_background": "light"
          }
        }
      ]
    }
  ]
}